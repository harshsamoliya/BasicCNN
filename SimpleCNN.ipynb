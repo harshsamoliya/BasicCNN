{
  "nbformat": 4,
  "nbformat_minor": 0,
  "metadata": {
    "colab": {
      "name": "SimpleCNN.ipynb",
      "provenance": [],
      "collapsed_sections": [],
      "authorship_tag": "ABX9TyPcHT1LUfuMfhiIvwF02f7i",
      "include_colab_link": true
    },
    "kernelspec": {
      "name": "python3",
      "display_name": "Python 3"
    }
  },
  "cells": [
    {
      "cell_type": "markdown",
      "metadata": {
        "id": "view-in-github",
        "colab_type": "text"
      },
      "source": [
        "<a href=\"https://colab.research.google.com/github/harshsamoliya/BasicCNN/blob/main/SimpleCNN.ipynb\" target=\"_parent\"><img src=\"https://colab.research.google.com/assets/colab-badge.svg\" alt=\"Open In Colab\"/></a>"
      ]
    },
    {
      "cell_type": "code",
      "metadata": {
        "colab": {
          "base_uri": "https://localhost:8080/"
        },
        "id": "tQ0bW_xKvsmr",
        "outputId": "6f726337-b476-4162-ebc5-a315dca369ac"
      },
      "source": [
        "import numpy as np\r\n",
        "import tensorflow as tf\r\n",
        "\r\n",
        "# particular file for library fashion_mnist -> load_data()\r\n",
        "fashion_mnist = tf.keras.datasets.fashion_mnist\r\n",
        "(x_train,y_train),(x_test,y_test) = fashion_mnist.load_data()\r\n",
        "\r\n",
        "\r\n",
        "import matplotlib.pyplot as plt\r\n",
        "# plt.imshow(x_train[0],cmap='hot')\r\n",
        "# plt.axis('off')\r\n",
        "# plt.show()\r\n",
        "\r\n",
        "\r\n",
        "# Image is Flatten -> image are in single dimensions\r\n",
        "\r\n",
        "x_train = x_train/255\r\n",
        "x_test = x_test/255\r\n",
        "x_train = x_train.reshape(60000,28,28,1)\r\n",
        "x_test  = x_test.reshape(10000,28,28,1)\r\n",
        "\r\n",
        "#\r\n",
        "class_name = ['T-shirt','Trouser','Pullover','Dress','Coat','Sandal','Shirt','Sneaker','Bag','Ankle Boot']\r\n",
        "from tensorflow.keras.utils import to_categorical # One Hot-Encoding //\r\n",
        "\r\n",
        "y_cat_train = to_categorical(y_train)\r\n",
        "y_cat_test = to_categorical(y_test)\r\n",
        "\r\n",
        "from tensorflow.keras.models import Sequential\r\n",
        "from tensorflow.keras.layers import Dense,Conv2D,MaxPool2D,Flatten\r\n",
        "\r\n",
        "# Construction of basic simple CNN #\r\n",
        "# Below Steps #\r\n",
        "\r\n",
        "model = Sequential()\r\n",
        "# Convolutional layer\r\n",
        "model.add(Conv2D(filters = 32,kernel_size =(4,4),input_shape = (28,28,1),activation='relu'))\r\n",
        "# Max Pooling\r\n",
        "model.add(MaxPool2D(pool_size=(2,2)))\r\n",
        "# Flatten\r\n",
        "model.add(Flatten())\r\n",
        "# Dense Layers\r\n",
        "model.add(Dense(128,activation='relu'))\r\n",
        "# Output Layer\r\n",
        "model.add(Dense(10,activation='softmax'))\r\n",
        "# Compile\r\n",
        "model.compile(loss='categorical_crossentropy',optimizer='adam',metrics=['accuracy'])\r\n",
        "\r\n",
        "model.fit(x_train,y_cat_train,epochs=5)"
      ],
      "execution_count": null,
      "outputs": [
        {
          "output_type": "stream",
          "text": [
            "Downloading data from https://storage.googleapis.com/tensorflow/tf-keras-datasets/train-labels-idx1-ubyte.gz\n",
            "32768/29515 [=================================] - 0s 0us/step\n",
            "Downloading data from https://storage.googleapis.com/tensorflow/tf-keras-datasets/train-images-idx3-ubyte.gz\n",
            "26427392/26421880 [==============================] - 0s 0us/step\n",
            "Downloading data from https://storage.googleapis.com/tensorflow/tf-keras-datasets/t10k-labels-idx1-ubyte.gz\n",
            "8192/5148 [===============================================] - 0s 0us/step\n",
            "Downloading data from https://storage.googleapis.com/tensorflow/tf-keras-datasets/t10k-images-idx3-ubyte.gz\n",
            "4423680/4422102 [==============================] - 0s 0us/step\n",
            "Epoch 1/5\n",
            "1875/1875 [==============================] - 32s 17ms/step - loss: 0.5514 - accuracy: 0.8053\n",
            "Epoch 2/5\n",
            "1875/1875 [==============================] - 31s 17ms/step - loss: 0.2946 - accuracy: 0.8947\n",
            "Epoch 3/5\n",
            "1875/1875 [==============================] - 31s 16ms/step - loss: 0.2381 - accuracy: 0.9100\n",
            "Epoch 4/5\n",
            "1875/1875 [==============================] - 31s 17ms/step - loss: 0.2042 - accuracy: 0.9254\n",
            "Epoch 5/5\n",
            "1875/1875 [==============================] - 31s 16ms/step - loss: 0.1787 - accuracy: 0.9339\n"
          ],
          "name": "stdout"
        },
        {
          "output_type": "execute_result",
          "data": {
            "text/plain": [
              "<tensorflow.python.keras.callbacks.History at 0x7f47a2719908>"
            ]
          },
          "metadata": {
            "tags": []
          },
          "execution_count": 2
        }
      ]
    },
    {
      "cell_type": "code",
      "metadata": {
        "colab": {
          "base_uri": "https://localhost:8080/",
          "height": 352
        },
        "id": "kzwgAdJ2whJF",
        "outputId": "a5c13741-cbfb-40cb-9f82-38c97eda9f28"
      },
      "source": [
        "i = 7\r\n",
        "result = model.predict_classes(x_test[i].reshape(1,28,28,1))\r\n",
        "print(result)\r\n",
        "plt.imshow(x_test[i].reshape(28,28),cmap='gray')\r\n",
        "plt.show()\r\n",
        "print(class_name[result[0]])\r\n",
        "\r\n"
      ],
      "execution_count": null,
      "outputs": [
        {
          "output_type": "stream",
          "text": [
            "[6]\n"
          ],
          "name": "stdout"
        },
        {
          "output_type": "stream",
          "text": [
            "/usr/local/lib/python3.6/dist-packages/tensorflow/python/keras/engine/sequential.py:450: UserWarning: `model.predict_classes()` is deprecated and will be removed after 2021-01-01. Please use instead:* `np.argmax(model.predict(x), axis=-1)`,   if your model does multi-class classification   (e.g. if it uses a `softmax` last-layer activation).* `(model.predict(x) > 0.5).astype(\"int32\")`,   if your model does binary classification   (e.g. if it uses a `sigmoid` last-layer activation).\n",
            "  warnings.warn('`model.predict_classes()` is deprecated and '\n"
          ],
          "name": "stderr"
        },
        {
          "output_type": "display_data",
          "data": {
            "image/png": "[encoded data removed]",
            "text/plain": [
              "<Figure size 432x288 with 1 Axes>"
            ]
          },
          "metadata": {
            "tags": [],
            "needs_background": "light"
          }
        },
        {
          "output_type": "stream",
          "text": [
            "Shirt\n"
          ],
          "name": "stdout"
        }
      ]
    },
    {
      "cell_type": "code",
      "metadata": {
        "id": "dgUf3Slkwktq"
      },
      "source": [
        ""
      ],
      "execution_count": null,
      "outputs": []
    }
  ]
}